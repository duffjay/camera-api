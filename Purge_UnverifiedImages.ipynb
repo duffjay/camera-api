{
 "cells": [
  {
   "cell_type": "markdown",
   "metadata": {},
   "source": [
    "# Purge Un-Verified Images\n",
    "\n",
    "### Ref:  camera-api/example_utils.py  \n",
    "(which came from ssd-dag)  \n",
    "\n",
    "1. use labelImg to verify\n",
    "2. move xml to annotation dir\n",
    "3. move jpg to jpeg_images dir\n",
    "4. OPTIONAL - make tf records\n",
    "5. this program will read annotation\n",
    "  - move unverified annotation to trash/\n",
    "  - move unverified jpeg to trash/\n",
    "  \n",
    " "
   ]
  },
  {
   "cell_type": "code",
   "execution_count": 8,
   "metadata": {},
   "outputs": [],
   "source": [
    "import os\n",
    "import sys\n",
    "import shutil"
   ]
  },
  {
   "cell_type": "code",
   "execution_count": 9,
   "metadata": {},
   "outputs": [],
   "source": [
    "# append to path so it wil find the tensorflow utilities\n",
    "\n",
    "cwd = os.getcwd()\n",
    "HOME = os.path.expanduser('~')\n",
    "models = os.path.abspath(os.path.join(HOME, 'projects', 'tensorflow/models/research/'))\n",
    "slim = os.path.abspath(os.path.join(  HOME, 'projects', 'tensorflow/models/research/slim'))\n",
    "sys.path.append(models)\n",
    "sys.path.append(slim)\n",
    "\n",
    "\n",
    "import gen_imagesets\n",
    "import example_utils"
   ]
  },
  {
   "cell_type": "code",
   "execution_count": 10,
   "metadata": {},
   "outputs": [],
   "source": [
    "## Global\n",
    "DATA_DATE = '20210124'\n",
    "\n",
    "# project directories\n",
    "PROJECT = os.getcwd()\n",
    "HSDATA = '/hsdata'     # high speed data\n",
    "\n",
    "IMAGE_DIR = os.path.join(HSDATA, \"jpeg_images\")\n",
    "ANNOTATION_DIR_ROOT = os.path.join(HSDATA, \"annotation\")\n",
    "TRASH_DIR = os.path.join(PROJECT, \"trash\")\n",
    "TRAINING_SPLIT_TUPLE =  (100,0,0)\n"
   ]
  },
  {
   "cell_type": "code",
   "execution_count": 11,
   "metadata": {},
   "outputs": [
    {
     "name": "stdout",
     "output_type": "stream",
     "text": [
      "annotation root: /hsdata/annotation\n",
      "-- MAKING Verified & NonVerified IMAGES LISTS\n",
      "   found 12 subdirectories\n",
      "   making list of verified annotations -- verified count 17894 / non 0 in /hsdata/annotation/202007\n",
      "   making list of verified annotations -- verified count 10934 / non 0 in /hsdata/annotation/202002\n",
      "   making list of verified annotations -- verified count 17953 / non 0 in /hsdata/annotation/202009\n",
      "   making list of verified annotations -- verified count 11301 / non 0 in /hsdata/annotation/202001\n",
      "   making list of verified annotations -- verified count 18768 / non 0 in /hsdata/annotation/202004\n",
      "   making list of verified annotations -- verified count 18309 / non 0 in /hsdata/annotation/202008\n",
      "   making list of verified annotations -- verified count 914 / non 33371 in /hsdata/annotation/202102\n",
      "   making list of verified annotations -- verified count 19596 / non 0 in /hsdata/annotation/202101\n",
      "   making list of verified annotations -- verified count 19473 / non 0 in /hsdata/annotation/202003\n",
      "   making list of verified annotations -- verified count 19640 / non 0 in /hsdata/annotation/202005\n",
      "   making list of verified annotations -- verified count 18607 / non 0 in /hsdata/annotation/202006\n",
      "   making list of verified annotations -- verified count 8672 / non 0 in /hsdata/annotation/202010\n",
      "-- TOTAL list of verified annotations ------ count 182061\n",
      "-- TOTAL list of NON verified annotations -- count 33371\n",
      "verified list length: 182061\n",
      "non-verified list length: 33371\n"
     ]
    }
   ],
   "source": [
    "print (\"annotation root:\", ANNOTATION_DIR_ROOT)\n",
    "verified_list, not_verified_list = gen_imagesets.gen_verified_lists(ANNOTATION_DIR_ROOT)\n",
    "print (\"verified list length:\", len(verified_list))\n",
    "print (\"non-verified list length:\", len(not_verified_list))"
   ]
  },
  {
   "cell_type": "code",
   "execution_count": 12,
   "metadata": {},
   "outputs": [
    {
     "name": "stdout",
     "output_type": "stream",
     "text": [
      "moved -- 0\n",
      "moved -- 1000\n",
      "moved -- 2000\n",
      "moved -- 3000\n",
      "moved -- 4000\n",
      "moved -- 5000\n",
      "moved -- 6000\n",
      "moved -- 7000\n",
      "moved -- 8000\n",
      "moved -- 9000\n",
      "moved -- 10000\n",
      "moved -- 11000\n",
      "moved -- 12000\n",
      "moved -- 13000\n",
      "moved -- 14000\n",
      "moved -- 15000\n",
      "moved -- 16000\n",
      "moved -- 17000\n",
      "moved -- 18000\n",
      "moved -- 19000\n",
      "moved -- 20000\n",
      "moved -- 21000\n",
      "moved -- 22000\n",
      "moved -- 23000\n",
      "moved -- 24000\n",
      "moved -- 25000\n",
      "moved -- 26000\n",
      "moved -- 27000\n",
      "moved -- 28000\n",
      "moved -- 29000\n",
      "moved -- 30000\n",
      "moved -- 31000\n",
      "moved -- 32000\n",
      "moved -- 33000\n",
      "finished - moved 33370\n"
     ]
    }
   ],
   "source": [
    "# -- make sure you hvae a trash directory\n",
    "#    camera-api/trash\n",
    "\n",
    "# move unverfied to trash\n",
    "error_count = 0\n",
    "\n",
    "for i, image_id in enumerate(not_verified_list):\n",
    "    if image_id == '.gitkeep':\n",
    "        continue\n",
    "    if i % 1000 == 0:\n",
    "        print (f'moved -- {i}')\n",
    "    try:\n",
    "        xml_source, jpg_source = example_utils.get_image_annotation_paths(image_id)\n",
    "        shutil.move(xml_source, TRASH_DIR)\n",
    "        shutil.move(jpg_source, TRASH_DIR)\n",
    "    except:\n",
    "        error_count = error_count + 1\n",
    "        print (f'could not move {xml_source} {jpg_source}')\n",
    "        if error_count > 5:\n",
    "            break\n",
    "    \n",
    "print (f'finished - moved {i}')\n"
   ]
  },
  {
   "cell_type": "code",
   "execution_count": 13,
   "metadata": {},
   "outputs": [],
   "source": [
    "! rm -rf trash\n",
    "! mkdir trash"
   ]
  },
  {
   "cell_type": "markdown",
   "metadata": {},
   "source": [
    "# Backup to S3"
   ]
  },
  {
   "cell_type": "code",
   "execution_count": null,
   "metadata": {},
   "outputs": [],
   "source": [
    "tarball_name = DATA_DATE + \"_annotation.tar.gz\"\n",
    "annotation_source = os.path.join(HSDATA, 'annotation')\n",
    "! tar czvf $tarball_name $annotation_source"
   ]
  },
  {
   "cell_type": "code",
   "execution_count": null,
   "metadata": {},
   "outputs": [],
   "source": [
    "! aws s3 cp $tarball_name s3://jmduff.security-system/training_data/ --profile=jmduff"
   ]
  },
  {
   "cell_type": "code",
   "execution_count": null,
   "metadata": {},
   "outputs": [],
   "source": [
    "tarball_name = DATA_DATE + \"_jpeg_images.tar.gz\"\n",
    "jpeg_images_source = os.path.join(HSDATA, 'jpeg_images')\n",
    "! tar cf - $jpeg_images_source | pigz > $tarball_name"
   ]
  },
  {
   "cell_type": "code",
   "execution_count": null,
   "metadata": {},
   "outputs": [],
   "source": [
    "! aws s3 cp $tarball_name s3://jmduff.security-system/training_data/ --profile=jmduff"
   ]
  },
  {
   "cell_type": "code",
   "execution_count": null,
   "metadata": {},
   "outputs": [],
   "source": []
  }
 ],
 "metadata": {
  "kernelspec": {
   "display_name": "Python37 (tf24)",
   "language": "python",
   "name": "tf24"
  },
  "language_info": {
   "codemirror_mode": {
    "name": "ipython",
    "version": 3
   },
   "file_extension": ".py",
   "mimetype": "text/x-python",
   "name": "python",
   "nbconvert_exporter": "python",
   "pygments_lexer": "ipython3",
   "version": "3.7.9"
  }
 },
 "nbformat": 4,
 "nbformat_minor": 4
}
