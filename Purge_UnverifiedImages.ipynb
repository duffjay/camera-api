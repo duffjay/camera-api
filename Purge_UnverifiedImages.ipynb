{
 "cells": [
  {
   "cell_type": "markdown",
   "metadata": {},
   "source": [
    "# Purge Un-Verified Images\n",
    "\n",
    "### Ref:  camera-api/example_utils.py  \n",
    "(which came from ssd-dag)  \n",
    "\n",
    "1. use labelImg to verify\n",
    "2. move xml to annotation dir\n",
    "3. move jpg to jpeg_images dir\n",
    "4. OPTIONAL - make tf records\n",
    "5. this program will read annotation\n",
    "  - move unverified annotation to trash/\n",
    "  - move unverified jpeg to trash/\n",
    "  \n",
    " "
   ]
  },
  {
   "cell_type": "code",
   "execution_count": 1,
   "metadata": {},
   "outputs": [],
   "source": [
    "import os\n",
    "import sys\n",
    "import shutil"
   ]
  },
  {
   "cell_type": "code",
   "execution_count": 2,
   "metadata": {},
   "outputs": [],
   "source": [
    "# append to path so it wil find the tensorflow utilities\n",
    "\n",
    "cwd = os.getcwd()\n",
    "# this path is different in this project\n",
    "models = os.path.abspath(os.path.join(cwd, '..', 'models/research/'))\n",
    "slim = os.path.abspath(os.path.join(cwd, '..', 'models/research/slim'))\n",
    "sys.path.append(models)\n",
    "sys.path.append(slim)\n",
    "\n",
    "\n",
    "import gen_imagesets\n",
    "import example_utils"
   ]
  },
  {
   "cell_type": "code",
   "execution_count": null,
   "metadata": {},
   "outputs": [],
   "source": [
    "## Global\n",
    "DATA_DATE = '20200602'\n",
    "\n",
    "# project directories\n",
    "PROJECT = os.getcwd()\n",
    "HSDATA = '/hsdata'     # high speed data\n",
    "\n",
    "IMAGE_DIR = os.path.join(HSDATA, \"jpeg_images\")\n",
    "ANNOTATION_DIR_ROOT = os.path.join(HSDATA, \"annotation\")\n",
    "TRASH_DIR = os.path.join(PROJECT, \"trash\")\n",
    "TRAINING_SPLIT_TUPLE =  (100,0,0)\n"
   ]
  },
  {
   "cell_type": "code",
   "execution_count": null,
   "metadata": {},
   "outputs": [],
   "source": [
    "print (\"annotation root:\", ANNOTATION_DIR_ROOT)\n",
    "verified_list, not_verified_list = gen_imagesets.gen_verified_lists(ANNOTATION_DIR_ROOT)\n",
    "print (\"verified list length:\", len(verified_list))\n",
    "print (\"non-verified list length:\", len(not_verified_list))"
   ]
  },
  {
   "cell_type": "code",
   "execution_count": null,
   "metadata": {},
   "outputs": [],
   "source": [
    "# -- make sure you hvae a trash directory\n",
    "#    camera-api/trash\n",
    "\n",
    "# move unverfied to trash\n",
    "for i, image_id in enumerate(not_verified_list):\n",
    "    if image_id == '.gitkeep':\n",
    "        continue\n",
    "        \n",
    "    xml_source, jpg_source = example_utils.get_image_annotation_paths(image_id)\n",
    "\n",
    "    shutil.move(xml_source, TRASH_DIR)\n",
    "    shutil.move(jpg_source, TRASH_DIR)\n"
   ]
  },
  {
   "cell_type": "code",
   "execution_count": null,
   "metadata": {},
   "outputs": [],
   "source": [
    "! ls trash | wc"
   ]
  },
  {
   "cell_type": "markdown",
   "metadata": {},
   "source": [
    "# Backup to S3"
   ]
  },
  {
   "cell_type": "code",
   "execution_count": null,
   "metadata": {},
   "outputs": [],
   "source": [
    "tarball_name = DATA_DATE + \"_annotation.tar.gz\"\n",
    "annotation_source = os.path.join(HSDATA, 'annotation')\n",
    "! tar czvf $tarball_name $annotation_source"
   ]
  },
  {
   "cell_type": "code",
   "execution_count": null,
   "metadata": {},
   "outputs": [],
   "source": [
    "! aws s3 cp $tarball_name s3://jmduff.security-system/training_data/ --profile=jmduff"
   ]
  },
  {
   "cell_type": "code",
   "execution_count": null,
   "metadata": {},
   "outputs": [],
   "source": [
    "tarball_name = DATA_DATE + \"_jpeg_images.tar.gz\"\n",
    "jpeg_images_source = os.path.join(HSDATA, 'jpeg_images')\n",
    "! tar cf - $jpeg_images_source | pigz > $tarball_name"
   ]
  },
  {
   "cell_type": "code",
   "execution_count": null,
   "metadata": {},
   "outputs": [],
   "source": [
    "! aws s3 cp $tarball_name s3://jmduff.security-system/training_data/ --profile=jmduff"
   ]
  },
  {
   "cell_type": "code",
   "execution_count": null,
   "metadata": {},
   "outputs": [],
   "source": []
  }
 ],
 "metadata": {
  "kernelspec": {
   "display_name": "security",
   "language": "python",
   "name": "security"
  },
  "language_info": {
   "codemirror_mode": {
    "name": "ipython",
    "version": 3
   },
   "file_extension": ".py",
   "mimetype": "text/x-python",
   "name": "python",
   "nbconvert_exporter": "python",
   "pygments_lexer": "ipython3",
   "version": "3.6.10"
  }
 },
 "nbformat": 4,
 "nbformat_minor": 4
}
